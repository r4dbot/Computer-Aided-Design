{
 "cells": [
  {
   "cell_type": "code",
   "execution_count": 77,
   "id": "7bf783bf",
   "metadata": {},
   "outputs": [
    {
     "data": {
      "text/plain": [
       "array([[ 0,  0,  1],\n",
       "       [-1,  0,  0],\n",
       "       [ 0, -1,  0]])"
      ]
     },
     "execution_count": 77,
     "metadata": {},
     "output_type": "execute_result"
    }
   ],
   "source": [
    "import numpy as np\n",
    "import modern_robotics as mr \n",
    "\n",
    "xa1 = [0,0,1]\n",
    "ya1 = [-1,0,0]\n",
    "za1 = np.cross(xa1,ya1)\n",
    "R_as1 = np.array([xa1,ya1,za1])\n",
    "R_as1"
   ]
  },
  {
   "cell_type": "code",
   "execution_count": 78,
   "id": "9e366df8",
   "metadata": {},
   "outputs": [
    {
     "data": {
      "text/plain": [
       "(3, 3)"
      ]
     },
     "execution_count": 78,
     "metadata": {},
     "output_type": "execute_result"
    }
   ],
   "source": [
    "R_sa1 = R_as1.T\n",
    "np.shape(R_sa1)"
   ]
  },
  {
   "cell_type": "code",
   "execution_count": 103,
   "id": "5f6e39e0",
   "metadata": {},
   "outputs": [
    {
     "data": {
      "text/plain": [
       "(4, 3)"
      ]
     },
     "execution_count": 103,
     "metadata": {},
     "output_type": "execute_result"
    }
   ],
   "source": [
    "last_row = np.array([np.zeros((3,), dtype=int)])\n",
    "np.shape(last_row)\n",
    "R_sa1_r = np.vstack([R_sa1,last_row])\n",
    "R_sa1_r.shape"
   ]
  },
  {
   "cell_type": "code",
   "execution_count": 107,
   "id": "3361d2f7",
   "metadata": {},
   "outputs": [
    {
     "data": {
      "text/plain": [
       "(4, 1)"
      ]
     },
     "execution_count": 107,
     "metadata": {},
     "output_type": "execute_result"
    }
   ],
   "source": [
    "p_a1 = np.array([[0,0,1]])\n",
    "p_a1 = np.array([np.append(p_a1,[1])])\n",
    "p_a1 = p_a1.T\n",
    "p_a1.shape"
   ]
  },
  {
   "cell_type": "code",
   "execution_count": 121,
   "id": "9678302d",
   "metadata": {},
   "outputs": [
    {
     "data": {
      "text/plain": [
       "array([[ 0, -1,  0,  0],\n",
       "       [ 0,  0, -1,  0],\n",
       "       [ 1,  0,  0,  1],\n",
       "       [ 0,  0,  0,  1]])"
      ]
     },
     "execution_count": 121,
     "metadata": {},
     "output_type": "execute_result"
    }
   ],
   "source": [
    "#q1\n",
    "T_sa1 = np.append(R_sa1_r , p_a1,1) \n",
    "T_sa1\n",
    "# T = ([R,p],[0,1])  "
   ]
  },
  {
   "cell_type": "code",
   "execution_count": 109,
   "id": "2b7b7ffa",
   "metadata": {},
   "outputs": [
    {
     "data": {
      "text/plain": [
       "array([[ 1,  0,  0],\n",
       "       [ 0,  0, -1],\n",
       "       [ 0,  1,  0]])"
      ]
     },
     "execution_count": 109,
     "metadata": {},
     "output_type": "execute_result"
    }
   ],
   "source": [
    "xb2 = [1,0,0]\n",
    "yb2 = [0,0,-1]\n",
    "zb2 = np.cross(xb2,yb2)\n",
    "R_bs2 = np.array([xb2,yb2,zb2])\n",
    "R_bs2"
   ]
  },
  {
   "cell_type": "code",
   "execution_count": 110,
   "id": "97f274e9",
   "metadata": {},
   "outputs": [
    {
     "data": {
      "text/plain": [
       "array([[ 1,  0,  0],\n",
       "       [ 0,  0,  1],\n",
       "       [ 0, -1,  0]])"
      ]
     },
     "execution_count": 110,
     "metadata": {},
     "output_type": "execute_result"
    }
   ],
   "source": [
    "R_sb2 = R_bs2.T\n",
    "R_sb2"
   ]
  },
  {
   "cell_type": "code",
   "execution_count": 111,
   "id": "0e40d66f",
   "metadata": {},
   "outputs": [
    {
     "data": {
      "text/plain": [
       "(4, 3)"
      ]
     },
     "execution_count": 111,
     "metadata": {},
     "output_type": "execute_result"
    }
   ],
   "source": [
    "R_sb2_r = np.vstack([R_sb2,last_row])\n",
    "R_sb2_r.shape"
   ]
  },
  {
   "cell_type": "code",
   "execution_count": 112,
   "id": "e0332e01",
   "metadata": {},
   "outputs": [
    {
     "data": {
      "text/plain": [
       "(4, 1)"
      ]
     },
     "execution_count": 112,
     "metadata": {},
     "output_type": "execute_result"
    }
   ],
   "source": [
    "p_b2 = np.array([[0,2,0]])\n",
    "p_b2 = np.array([np.append(p_b2,[1])])\n",
    "p_b2 = p_b2.T\n",
    "p_b2.shape"
   ]
  },
  {
   "cell_type": "code",
   "execution_count": 148,
   "id": "f5a495a5",
   "metadata": {},
   "outputs": [
    {
     "data": {
      "text/plain": [
       "array([[ 1,  0,  0,  0],\n",
       "       [ 0,  0,  1,  2],\n",
       "       [ 0, -1,  0,  0],\n",
       "       [ 0,  0,  0,  1]])"
      ]
     },
     "execution_count": 148,
     "metadata": {},
     "output_type": "execute_result"
    }
   ],
   "source": [
    "#q2\n",
    "T_sb2 = np.append(R_sb2_r , p_b2,1) \n",
    "T_bs2 = mr.TransInv(T_sb2)\n",
    "T_sb2"
   ]
  },
  {
   "cell_type": "code",
   "execution_count": 185,
   "id": "7f6beef7",
   "metadata": {},
   "outputs": [
    {
     "data": {
      "text/plain": [
       "array([[ 1,  0,  0,  0],\n",
       "       [ 0,  0, -1,  0],\n",
       "       [ 0,  1,  0, -2],\n",
       "       [ 0,  0,  0,  1]])"
      ]
     },
     "execution_count": 185,
     "metadata": {},
     "output_type": "execute_result"
    }
   ],
   "source": [
    "T_bs2"
   ]
  },
  {
   "cell_type": "code",
   "execution_count": 122,
   "id": "fc0112cd",
   "metadata": {},
   "outputs": [
    {
     "data": {
      "text/plain": [
       "array([[ 0, -1,  0, -1],\n",
       "       [-1,  0,  0,  0],\n",
       "       [ 0,  0, -1, -2],\n",
       "       [ 0,  0,  0,  1]])"
      ]
     },
     "execution_count": 122,
     "metadata": {},
     "output_type": "execute_result"
    }
   ],
   "source": [
    "#q3\n",
    "T_as1 = mr.TransInv(T_sa1)\n",
    "T_ab3 = np.dot(T_as1,T_sb2)\n",
    "T_ab3"
   ]
  },
  {
   "cell_type": "code",
   "execution_count": 125,
   "id": "045dd3a4",
   "metadata": {},
   "outputs": [
    {
     "data": {
      "text/plain": [
       "array([ 1,  5, -2])"
      ]
     },
     "execution_count": 125,
     "metadata": {},
     "output_type": "execute_result"
    }
   ],
   "source": [
    "#q5\n",
    "p_b5 = [1,2,3]\n",
    "p_b5 = np.array([np.append(p_b5,1)])\n",
    "p_b5 = p_b5.T\n",
    "p_s5 = np.dot(T_sb2,p_b5)\n",
    "p_s5 = np.delete(p_s5,3)\n",
    "p_s5"
   ]
  },
  {
   "cell_type": "code",
   "execution_count": 130,
   "id": "c5b993b0",
   "metadata": {},
   "outputs": [
    {
     "data": {
      "text/plain": [
       "array([[ 1.],\n",
       "       [-3.],\n",
       "       [-2.],\n",
       "       [-3.],\n",
       "       [-1.],\n",
       "       [ 5.]])"
      ]
     },
     "execution_count": 130,
     "metadata": {},
     "output_type": "execute_result"
    }
   ],
   "source": [
    "#q7\n",
    "v_s7 = np.array([[3],[2],[1],[-1],[-2],[-3]])\n",
    "T_as1_adj = mr.Adjoint(T_as1)\n",
    "v_a7 = np.dot(T_as1_adj,v_s7,)\n",
    "v_a7"
   ]
  },
  {
   "cell_type": "code",
   "execution_count": 140,
   "id": "021ee7de",
   "metadata": {},
   "outputs": [
    {
     "name": "stdout",
     "output_type": "stream",
     "text": [
      "matrixlog\n",
      "\n",
      "[[ 0.         -1.20919958 -1.20919958  0.73639986]\n",
      " [ 1.20919958  0.         -1.20919958  0.47279972]\n",
      " [ 1.20919958  1.20919958  0.          0.73639986]\n",
      " [ 0.          0.          0.          0.        ]] \n",
      "\n",
      "vector\n",
      "\n",
      "[ 1.20919958 -1.20919958  1.20919958  0.73639986  0.47279972  0.73639986] \n",
      "\n",
      "tetha\n",
      " 2.0943951023931957\n"
     ]
    }
   ],
   "source": [
    "#q8\n",
    "matrixlog_8 =mr.MatrixLog6(T_sa1)\n",
    "print(\"matrixlog\\n\")\n",
    "print(matrixlog_8,\"\\n\")\n",
    "vector_8 = mr.se3ToVec(matrixlog_8) \n",
    "print(\"vector\\n\")\n",
    "print(vector_8,\"\\n\")\n",
    "tetha_of_matrixlog_8 = mr.AxisAng6(vector_8)\n",
    "tetha_of_matrixlog_8 = tetha_of_matrixlog_8[1] \n",
    "print(\"tetha\\n\",tetha_of_matrixlog_8)"
   ]
  },
  {
   "cell_type": "code",
   "execution_count": 141,
   "id": "1c5d6cde",
   "metadata": {},
   "outputs": [
    {
     "name": "stdout",
     "output_type": "stream",
     "text": [
      "matrix se3\n",
      " [[ 0. -2.  1.  3.]\n",
      " [ 2.  0.  0.  0.]\n",
      " [-1.  0.  0.  0.]\n",
      " [ 0.  0.  0.  0.]]\n",
      "matrix exp\n",
      " [[-0.61727288 -0.70368982  0.35184491  1.05553472]\n",
      " [ 0.70368982 -0.2938183   0.64690915  1.94072745]\n",
      " [-0.35184491  0.64690915  0.67654542 -0.97036373]\n",
      " [ 0.          0.          0.          1.        ]]\n"
     ]
    }
   ],
   "source": [
    "#q9\n",
    "# vector to se3\n",
    "vector_9 = np.array([0,1,2,3,0,0])\n",
    "se3_9 =  mr.VecTose3(vector_9)\n",
    "print(\"matrix se3\\n\", se3_9)\n",
    "# matrix exp\n",
    "matrixexp_9 = mr.MatrixExp6(se3_9)\n",
    "print(\"matrix exp\\n\", matrixexp_9)"
   ]
  },
  {
   "cell_type": "code",
   "execution_count": 194,
   "id": "677583fa",
   "metadata": {},
   "outputs": [
    {
     "name": "stdout",
     "output_type": "stream",
     "text": [
      "fb\n",
      " [[1]\n",
      " [0]\n",
      " [0]\n",
      " [2]\n",
      " [1]\n",
      " [0]]\n",
      "Adj of T_sb2\n",
      " [[ 1.  0.  0.  0.  0.  0.]\n",
      " [ 0.  0. -1.  0.  0.  0.]\n",
      " [ 0.  1.  0.  0.  0.  0.]\n",
      " [ 0.  0. -2.  1.  0.  0.]\n",
      " [-2.  0.  0.  0.  0. -1.]\n",
      " [ 0.  0.  0.  0.  1.  0.]]\n",
      "fs\n",
      " [[-1.]\n",
      " [ 0.]\n",
      " [-4.]\n",
      " [ 2.]\n",
      " [ 0.]\n",
      " [-1.]]\n"
     ]
    }
   ],
   "source": [
    "#q10\n",
    "#force in b to force in s\n",
    "fb_10 = np.array([[1,0,0,2,1,0]])\n",
    "fb_10 = fb_10.T\n",
    "print (\"fb\\n\",fb_10)\n",
    "#convert Tsb to adj Tsb\n",
    "adj_T_bs2 = mr.Adjoint(T_bs2)\n",
    "print (\"Adj of T_sb2\\n\",adj_T_bs2)\n",
    "adj_T_bs2_transpose = np.transpose(adj_T_bs2)\n",
    "# dot product fb*adj_Tbs to find fs\n",
    "fs_10 = np.dot(adj_T_bs2_transpose,fb_10)\n",
    "print(\"fs\\n\",fs_10)"
   ]
  },
  {
   "cell_type": "code",
   "execution_count": 165,
   "id": "38240d0d",
   "metadata": {},
   "outputs": [
    {
     "name": "stdout",
     "output_type": "stream",
     "text": [
      "T\n",
      " [[ 0 -1  0  3]\n",
      " [ 1  0  0  0]\n",
      " [ 0  0  1  1]\n",
      " [ 0  0  0  1]] \n",
      "\n",
      "T inverse\n",
      " [[ 0  1  0  0]\n",
      " [-1  0  0  3]\n",
      " [ 0  0  1 -1]\n",
      " [ 0  0  0  1]] \n",
      "\n"
     ]
    }
   ],
   "source": [
    "#q11\n",
    "T_11 = np.array([[0,-1,0,3],[1,0,0,0],[0,0,1,1],[0,0,0,1]])\n",
    "print(\"T\\n\",T_11,\"\\n\")\n",
    "T_inv_11 = mr.TransInv(T_11)\n",
    "print(\"T inverse\\n\",T_inv_11,\"\\n\")"
   ]
  },
  {
   "cell_type": "code",
   "execution_count": 172,
   "id": "2e6f849a",
   "metadata": {},
   "outputs": [
    {
     "name": "stdout",
     "output_type": "stream",
     "text": [
      "v\n",
      " [[1]\n",
      " [0]\n",
      " [0]\n",
      " [0]\n",
      " [2]\n",
      " [3]] \n",
      "\n",
      "matrix se3 \n",
      " [[0 array([0]) array([0]) 0]\n",
      " [array([0]) 0 array([-1]) 2]\n",
      " [array([0]) array([1]) 0 3]\n",
      " [0.0 0.0 0.0 0.0]]\n"
     ]
    }
   ],
   "source": [
    "#q12\n",
    "v_12 = np.array([[1,0,0,0,2,3]])\n",
    "v_12 = v_12.T\n",
    "print(\"v\\n\",v_12,\"\\n\")\n",
    "se3_12 = mr.VecTose3(v_12)\n",
    "print(\"matrix se3 \\n\", se3_12)\n"
   ]
  },
  {
   "cell_type": "code",
   "execution_count": 177,
   "id": "8ead37e2",
   "metadata": {},
   "outputs": [
    {
     "name": "stdout",
     "output_type": "stream",
     "text": [
      "S \n",
      " [1 0 0 1 2 0]\n"
     ]
    }
   ],
   "source": [
    "#q13\n",
    "screw_13 = np.array([1,0,0]) # direction unit vector\n",
    "p_13 = np.array([0,0,2]) # point\n",
    "h = 1 #pitch\n",
    "screw_normalized_13 = mr.ScrewToAxis(p_13,screw_13,h)\n",
    "print(\"S \\n\", screw_normalized_13)"
   ]
  },
  {
   "cell_type": "code",
   "execution_count": 182,
   "id": "315dbbbf",
   "metadata": {},
   "outputs": [
    {
     "name": "stdout",
     "output_type": "stream",
     "text": [
      "se3 \n",
      " [[ 0.     -1.5708  0.      2.3562]\n",
      " [ 1.5708  0.      0.     -2.3562]\n",
      " [ 0.      0.      0.      1.    ]\n",
      " [ 0.      0.      0.      0.    ]] \n",
      "\n",
      "Matrix EXP (SE3)\n",
      " [[-3.67320510e-06 -1.00000000e+00  0.00000000e+00  3.00000551e+00]\n",
      " [ 1.00000000e+00 -3.67320510e-06  0.00000000e+00  5.50981777e-06]\n",
      " [ 0.00000000e+00  0.00000000e+00  1.00000000e+00  1.00000000e+00]\n",
      " [ 0.00000000e+00  0.00000000e+00  0.00000000e+00  1.00000000e+00]]\n"
     ]
    }
   ],
   "source": [
    "#q14\n",
    "se3_14 = np.array([[0,-1.5708,0,2.3562],[1.5708,0,0,-2.3562],[0,0,0,1],[0,0,0,0]])\n",
    "print(\"se3 \\n\",se3_14,\"\\n\")\n",
    "matrixexp_14 = mr.MatrixExp6(se3_14)\n",
    "print(\"Matrix EXP T (SE3)\\n\", matrixexp_14)"
   ]
  },
  {
   "cell_type": "code",
   "execution_count": 183,
   "id": "a0ec0461",
   "metadata": {},
   "outputs": [
    {
     "name": "stdout",
     "output_type": "stream",
     "text": [
      "T \n",
      " [[ 0 -1  0  3]\n",
      " [ 1  0  0  0]\n",
      " [ 0  0  1  1]\n",
      " [ 0  0  0  1]] \n",
      "\n",
      "se3 \n",
      " [[ 0.         -1.57079633  0.          2.35619449]\n",
      " [ 1.57079633  0.          0.         -2.35619449]\n",
      " [ 0.          0.          0.          1.        ]\n",
      " [ 0.          0.          0.          0.        ]]\n"
     ]
    }
   ],
   "source": [
    "#q15\n",
    "T_15 = np.array([[0,-1,0,3],[1,0,0,0],[0,0,1,1],[0,0,0,1]])\n",
    "print(\"T \\n\",T_15,\"\\n\")\n",
    "se3_15 = mr.MatrixLog6(T_15)\n",
    "print(\"se3 \\n\",se3_15)"
   ]
  },
  {
   "cell_type": "code",
   "execution_count": 117,
   "id": "73ea3a61",
   "metadata": {},
   "outputs": [
    {
     "name": "stdout",
     "output_type": "stream",
     "text": [
      "\n",
      "Question 2:\n",
      " [[ 1, 0, 0, 0],\n",
      " [ 0, 0,-1, 0],\n",
      " [ 0, 1, 0,-2],\n",
      " [ 0, 0, 0, 1]]\n"
     ]
    }
   ],
   "source": [
    "T_sb = np.array([[1, 0, 0, 0],\n",
    "                 [0, 0, 1, 2],\n",
    "                 [0,-1, 0, 0],\n",
    "                 [0, 0, 0, 1]])\n",
    "\n",
    "T_bs = mr.TransInv(T_sb)\n",
    "print(\"\\nQuestion 2:\\n\", np.array2string(T_bs, separator=',')) # question 2"
   ]
  },
  {
   "cell_type": "code",
   "execution_count": null,
   "id": "1bd7bf10",
   "metadata": {},
   "outputs": [],
   "source": []
  }
 ],
 "metadata": {
  "kernelspec": {
   "display_name": "Python 3",
   "language": "python",
   "name": "python3"
  },
  "language_info": {
   "codemirror_mode": {
    "name": "ipython",
    "version": 3
   },
   "file_extension": ".py",
   "mimetype": "text/x-python",
   "name": "python",
   "nbconvert_exporter": "python",
   "pygments_lexer": "ipython3",
   "version": "3.8.8"
  }
 },
 "nbformat": 4,
 "nbformat_minor": 5
}
