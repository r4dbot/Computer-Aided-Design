{
 "cells": [
  {
   "cell_type": "code",
   "execution_count": 13,
   "id": "26ceb0c6",
   "metadata": {},
   "outputs": [
    {
     "data": {
      "text/plain": [
       "array([0, 1, 0])"
      ]
     },
     "execution_count": 13,
     "metadata": {},
     "output_type": "execute_result"
    }
   ],
   "source": [
    "import numpy as np\n",
    "import modern_robotics as mr \n",
    "\n",
    "\n",
    "xa = [0,0,1]\n",
    "ya = [1,0,0]\n",
    "za = np.cross(xa,ya)\n",
    "za"
   ]
  },
  {
   "cell_type": "code",
   "execution_count": 15,
   "id": "bf67a6c2",
   "metadata": {},
   "outputs": [
    {
     "name": "stdout",
     "output_type": "stream",
     "text": [
      "\n",
      "Question 1:\n",
      " [[0,1,0],\n",
      " [0,0,1],\n",
      " [1,0,0]]\n"
     ]
    }
   ],
   "source": [
    "R_as = np.array([xa,ya,za])\n",
    "R_sa = np.transpose(R_as)\n",
    "print(\"\\nQuestion 1:\\n\", np.array2string(R_sa, separator=',')) # question 1"
   ]
  },
  {
   "cell_type": "code",
   "execution_count": 3,
   "id": "bcb5c7b0",
   "metadata": {},
   "outputs": [
    {
     "data": {
      "text/plain": [
       "array([0, 1, 0])"
      ]
     },
     "execution_count": 3,
     "metadata": {},
     "output_type": "execute_result"
    }
   ],
   "source": [
    "xb = [1,0,0]\n",
    "yb = [0,0,-1]\n",
    "zb = np.cross(xb,yb)\n",
    "zb"
   ]
  },
  {
   "cell_type": "code",
   "execution_count": 16,
   "id": "37f95b09",
   "metadata": {},
   "outputs": [
    {
     "name": "stdout",
     "output_type": "stream",
     "text": [
      "\n",
      "Question 2:\n",
      " [[ 1, 0, 0],\n",
      " [ 0, 0,-1],\n",
      " [ 0, 1, 0]]\n"
     ]
    }
   ],
   "source": [
    "R_bs = np.array([xb,yb,zb])\n",
    "R_sb_inverse = R_bs\n",
    "print(\"\\nQuestion 2:\\n\", np.array2string(R_sb_inverse, separator=',')) # question 2"
   ]
  },
  {
   "cell_type": "code",
   "execution_count": 17,
   "id": "4d07dfdb",
   "metadata": {},
   "outputs": [
    {
     "data": {
      "text/plain": [
       "array([[ 1,  0,  0],\n",
       "       [ 0,  0,  1],\n",
       "       [ 0, -1,  0]])"
      ]
     },
     "execution_count": 17,
     "metadata": {},
     "output_type": "execute_result"
    }
   ],
   "source": [
    "R_sb = np.transpose(R_bs)\n",
    "R_sb"
   ]
  },
  {
   "cell_type": "code",
   "execution_count": 19,
   "id": "b559c9c9",
   "metadata": {},
   "outputs": [
    {
     "data": {
      "text/plain": [
       "array([[ 0, -1,  0],\n",
       "       [ 1,  0,  0],\n",
       "       [ 0,  0,  1]])"
      ]
     },
     "execution_count": 19,
     "metadata": {},
     "output_type": "execute_result"
    }
   ],
   "source": [
    "R_ab = np.dot(R_as , R_sb) \n",
    "R_ab"
   ]
  },
  {
   "cell_type": "code",
   "execution_count": 20,
   "id": "29d98945",
   "metadata": {},
   "outputs": [
    {
     "data": {
      "text/plain": [
       "array([[ 1,  0,  0],\n",
       "       [ 0,  0,  1],\n",
       "       [ 0, -1,  0]])"
      ]
     },
     "execution_count": 20,
     "metadata": {},
     "output_type": "execute_result"
    }
   ],
   "source": [
    "R_sb"
   ]
  },
  {
   "cell_type": "code",
   "execution_count": 21,
   "id": "a9fe0dea",
   "metadata": {},
   "outputs": [
    {
     "data": {
      "text/plain": [
       "array([[0, 0, 1],\n",
       "       [1, 0, 0],\n",
       "       [0, 1, 0]])"
      ]
     },
     "execution_count": 21,
     "metadata": {},
     "output_type": "execute_result"
    }
   ],
   "source": [
    "R_as"
   ]
  },
  {
   "cell_type": "code",
   "execution_count": 22,
   "id": "06e6f8b3",
   "metadata": {},
   "outputs": [
    {
     "name": "stdout",
     "output_type": "stream",
     "text": [
      "\n",
      "Question 3:\n",
      " [[ 0,-1, 0],\n",
      " [ 1, 0, 0],\n",
      " [ 0, 0, 1]]\n"
     ]
    }
   ],
   "source": [
    "R_ab = np.array([[0,-1,0],[1,0,0],[0,0,1]]) #dot result Ras Rsb\n",
    "R_ab\n",
    "print(\"\\nQuestion 3:\\n\", np.array2string(R_ab, separator=',')) # question 3"
   ]
  },
  {
   "cell_type": "code",
   "execution_count": 23,
   "id": "6f9e6c6b",
   "metadata": {},
   "outputs": [
    {
     "name": "stdout",
     "output_type": "stream",
     "text": [
      "\n",
      "Question 5:\n",
      " [[ 1],\n",
      " [ 3],\n",
      " [-2]]\n"
     ]
    }
   ],
   "source": [
    "P_b = np.array([[1],[2],[3]])\n",
    "P_s = np.dot(R_sb,P_b) # R_sb*P_b\n",
    "P_s\n",
    "print(\"\\nQuestion 5:\\n\", np.array2string(P_s, separator=',')) # question 5"
   ]
  },
  {
   "cell_type": "code",
   "execution_count": 24,
   "id": "61727fac",
   "metadata": {},
   "outputs": [
    {
     "name": "stdout",
     "output_type": "stream",
     "text": [
      "\n",
      "Question 7:\n",
      " [[3],\n",
      " [2],\n",
      " [1]]\n"
     ]
    }
   ],
   "source": [
    "w_s = np.array([[3],[2],[1]])\n",
    "w_a = np.dot(R_as, w_s) # dot result (R_as * w_s) 3x3 * 3x1 = 1x3 \n",
    "w_a\n",
    "print(\"\\nQuestion 7:\\n\", np.array2string(w_s, separator=',')) # question 7"
   ]
  },
  {
   "cell_type": "code",
   "execution_count": 25,
   "id": "de6274df",
   "metadata": {},
   "outputs": [
    {
     "data": {
      "text/plain": [
       "(3, 3)"
      ]
     },
     "execution_count": 25,
     "metadata": {},
     "output_type": "execute_result"
    }
   ],
   "source": [
    "R_sa.shape"
   ]
  },
  {
   "cell_type": "code",
   "execution_count": 27,
   "id": "b3455fc5",
   "metadata": {},
   "outputs": [
    {
     "data": {
      "text/plain": [
       "array([[ 0.        ,  1.20919958, -1.20919958],\n",
       "       [-1.20919958,  0.        ,  1.20919958],\n",
       "       [ 1.20919958, -1.20919958,  0.        ]])"
      ]
     },
     "execution_count": 27,
     "metadata": {},
     "output_type": "execute_result"
    }
   ],
   "source": [
    "#matrixlog\n",
    "matrixlog = mr.MatrixLog3(R_sa)\n",
    "matrixlog"
   ]
  },
  {
   "cell_type": "code",
   "execution_count": 30,
   "id": "4497bc52",
   "metadata": {},
   "outputs": [
    {
     "data": {
      "text/plain": [
       "array([-1.20919958, -1.20919958, -1.20919958])"
      ]
     },
     "execution_count": 30,
     "metadata": {},
     "output_type": "execute_result"
    }
   ],
   "source": [
    "# convert so3 to vector\n",
    "vector8 = mr.so3ToVec(matrixlog) \n",
    "vector8"
   ]
  },
  {
   "cell_type": "code",
   "execution_count": 36,
   "id": "f7b2e49b",
   "metadata": {},
   "outputs": [
    {
     "data": {
      "text/plain": [
       "2.0943951023931957"
      ]
     },
     "execution_count": 36,
     "metadata": {},
     "output_type": "execute_result"
    }
   ],
   "source": [
    "#tetha_of_matrixlog\n",
    "tetha_of_matrixlog = mr.AxisAng3(vector8)\n",
    "tetha_of_matrixlog = tetha_of_matrixlog[1]\n",
    "tetha_of_matrixlog\n",
    "# quiz answer 2.094"
   ]
  },
  {
   "cell_type": "code",
   "execution_count": 145,
   "id": "0cb78e6f",
   "metadata": {},
   "outputs": [],
   "source": [
    "#vec to so3\n",
    "omega_hat_tetha= np.array([[1],[2],[0]])\n",
    "so3 = mr.VecToso3(omega_hat_tetha)\n",
    "\n",
    "#matexp\n",
    "so3_1 = np.array([[0,0,2],[0,0,-1],[-2,1,0]])\n",
    "matexp = mr.MatrixExp3(so3_1)"
   ]
  },
  {
   "cell_type": "code",
   "execution_count": 146,
   "id": "41304f86",
   "metadata": {},
   "outputs": [
    {
     "data": {
      "text/plain": [
       "array([[0, array([0]), array([2])],\n",
       "       [array([0]), 0, array([-1])],\n",
       "       [array([-2]), array([1]), 0]], dtype=object)"
      ]
     },
     "execution_count": 146,
     "metadata": {},
     "output_type": "execute_result"
    }
   ],
   "source": [
    "so3"
   ]
  },
  {
   "cell_type": "code",
   "execution_count": 147,
   "id": "374152c6",
   "metadata": {},
   "outputs": [
    {
     "data": {
      "text/plain": [
       "array([[ 0,  0,  2],\n",
       "       [ 0,  0, -1],\n",
       "       [-2,  1,  0]])"
      ]
     },
     "execution_count": 147,
     "metadata": {},
     "output_type": "execute_result"
    }
   ],
   "source": [
    "so3_1"
   ]
  },
  {
   "cell_type": "code",
   "execution_count": 148,
   "id": "db5cd8e9",
   "metadata": {},
   "outputs": [
    {
     "data": {
      "text/plain": [
       "array([[-0.2938183 ,  0.64690915,  0.70368982],\n",
       "       [ 0.64690915,  0.67654542, -0.35184491],\n",
       "       [-0.70368982,  0.35184491, -0.61727288]])"
      ]
     },
     "execution_count": 148,
     "metadata": {},
     "output_type": "execute_result"
    }
   ],
   "source": [
    "matexp"
   ]
  },
  {
   "cell_type": "code",
   "execution_count": 138,
   "id": "69f00834",
   "metadata": {},
   "outputs": [],
   "source": [
    "omega_hat_tetha_10 = np.array([[1],[2],[0.5]])\n",
    "so3_10 = mr.VecToso3(omega_hat_tetha_10)\n",
    "so3_10_1 = np.array([[0,-0.5,2],[0.5,0,-1],[-2,1,0]])"
   ]
  },
  {
   "cell_type": "code",
   "execution_count": 134,
   "id": "80fe113c",
   "metadata": {},
   "outputs": [
    {
     "data": {
      "text/plain": [
       "array([[0, array([-0.5]), array([2.])],\n",
       "       [array([0.5]), 0, array([-1.])],\n",
       "       [array([-2.]), array([1.]), 0]], dtype=object)"
      ]
     },
     "execution_count": 134,
     "metadata": {},
     "output_type": "execute_result"
    }
   ],
   "source": [
    "so3_10"
   ]
  },
  {
   "cell_type": "code",
   "execution_count": 139,
   "id": "00de3b19",
   "metadata": {},
   "outputs": [
    {
     "data": {
      "text/plain": [
       "array([[ 0. , -0.5,  2. ],\n",
       "       [ 0.5,  0. , -1. ],\n",
       "       [-2. ,  1. ,  0. ]])"
      ]
     },
     "execution_count": 139,
     "metadata": {},
     "output_type": "execute_result"
    }
   ],
   "source": [
    "so3_10_1"
   ]
  },
  {
   "cell_type": "code",
   "execution_count": 142,
   "id": "15cda2c8",
   "metadata": {},
   "outputs": [],
   "source": [
    "so3_11 = np.array([[0,0.5,-1],[-0.5,0,2],[1,-2,0]])\n",
    "matrixexp = mr.MatrixExp3(so3_11)"
   ]
  },
  {
   "cell_type": "code",
   "execution_count": 143,
   "id": "f88080aa",
   "metadata": {},
   "outputs": [
    {
     "data": {
      "text/plain": [
       "array([[ 0.60482045,  0.796274  , -0.01182979],\n",
       "       [ 0.46830057, -0.34361048,  0.81401868],\n",
       "       [ 0.64411707, -0.49787504, -0.58071821]])"
      ]
     },
     "execution_count": 143,
     "metadata": {},
     "output_type": "execute_result"
    }
   ],
   "source": [
    "matrixexp"
   ]
  },
  {
   "cell_type": "code",
   "execution_count": 144,
   "id": "d5eae19c",
   "metadata": {},
   "outputs": [
    {
     "data": {
      "text/plain": [
       "array([[ 0.        ,  1.20919958,  1.20919958],\n",
       "       [-1.20919958,  0.        ,  1.20919958],\n",
       "       [-1.20919958, -1.20919958,  0.        ]])"
      ]
     },
     "execution_count": 144,
     "metadata": {},
     "output_type": "execute_result"
    }
   ],
   "source": [
    "R_12 = np.array([[0,0,1],[-1,0,0],[0,-1,0]])\n",
    "matrixlog_12 = mr.MatrixLog3(R_12)\n",
    "matrixlog_12"
   ]
  },
  {
   "cell_type": "code",
   "execution_count": null,
   "id": "12b0f9f1",
   "metadata": {},
   "outputs": [],
   "source": []
  }
 ],
 "metadata": {
  "kernelspec": {
   "display_name": "Python 3",
   "language": "python",
   "name": "python3"
  },
  "language_info": {
   "codemirror_mode": {
    "name": "ipython",
    "version": 3
   },
   "file_extension": ".py",
   "mimetype": "text/x-python",
   "name": "python",
   "nbconvert_exporter": "python",
   "pygments_lexer": "ipython3",
   "version": "3.8.8"
  }
 },
 "nbformat": 4,
 "nbformat_minor": 5
}
