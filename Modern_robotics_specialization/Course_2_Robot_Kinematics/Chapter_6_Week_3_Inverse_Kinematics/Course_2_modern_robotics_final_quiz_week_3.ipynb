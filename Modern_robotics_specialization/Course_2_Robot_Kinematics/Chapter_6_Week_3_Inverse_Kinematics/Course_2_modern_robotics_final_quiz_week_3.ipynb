{
 "cells": [
  {
   "cell_type": "code",
   "execution_count": 1,
   "id": "bf605c89",
   "metadata": {},
   "outputs": [
    {
     "name": "stdout",
     "output_type": "stream",
     "text": [
      "\n",
      "Question 1:\n",
      " [3.4 ,2.05]\n"
     ]
    }
   ],
   "source": [
    "import numpy as np\n",
    "from numpy import linalg as LA\n",
    "import modern_robotics as mr\n",
    "import math\n",
    "\n",
    "pi = math.pi\n",
    "\n",
    "# question 1\n",
    "def function_1(theta):\n",
    "    return np.array([theta[0]**2-9, theta[1]**2-4])\n",
    "\n",
    "def jacobian_1(theta):\n",
    "    return np.array([[2*theta[0], 0], [0, 2*theta[1]]])\n",
    "\n",
    "count = 0       # iteration counter\n",
    "theta = [1, 1]  # initial guess\n",
    "while(count < 2):\n",
    "    count = count + 1\n",
    "    theta = theta - np.dot(LA.inv(jacobian_1(theta)), function_1(theta))\n",
    "\n",
    "theta = np.around(theta, decimals=2)\n",
    "print(\"\\nQuestion 1:\\n\", np.array2string(theta, separator=','))"
   ]
  },
  {
   "cell_type": "code",
   "execution_count": 2,
   "id": "7b2622c2",
   "metadata": {},
   "outputs": [
    {
     "name": "stdout",
     "output_type": "stream",
     "text": [
      "\n",
      "Question 2:\n",
      " [0.93,0.59,0.68]\n"
     ]
    }
   ],
   "source": [
    "# question 2\n",
    "Blist = np.array([[ 0, 0, 1, 0, 3, 0],\n",
    "                  [ 0, 0, 1, 0, 2, 0],\n",
    "                  [ 0, 0, 1, 0, 1, 0]]).T\n",
    "M = np.array([[ 1, 0, 0, 3],\n",
    "              [ 0, 1, 0, 0],\n",
    "              [ 0, 0, 1, 0],\n",
    "              [ 0, 0, 0, 1]])\n",
    "T = np.array([[-0.585, -0.811, 0, 0.076],\n",
    "              [ 0.811, -0.585, 0, 2.608],\n",
    "              [ 0    ,  0    , 1, 0.   ],\n",
    "              [ 0    ,  0.   , 0, 1.   ]])\n",
    "thetalist0 = np.array([pi/4, pi/4, pi/4])\n",
    "eomg = 0.001\n",
    "ev = 0.0001\n",
    "\n",
    "(thetalistQ2, successQ2) = mr.IKinBody(Blist, M, T, thetalist0, eomg, ev)\n",
    "\n",
    "if(successQ2):\n",
    "    thetalistQ2 = np.around(thetalistQ2, decimals=2)\n",
    "    print(\"\\nQuestion 2:\\n\", np.array2string(thetalistQ2, separator=','))\n",
    "else:\n",
    "    print(\"\\nQuestion 2:\\n\", \"Function \\'IKinBody\\' failed to converge.\")"
   ]
  },
  {
   "cell_type": "code",
   "execution_count": null,
   "id": "43efe54a",
   "metadata": {},
   "outputs": [],
   "source": []
  }
 ],
 "metadata": {
  "kernelspec": {
   "display_name": "Python 3",
   "language": "python",
   "name": "python3"
  },
  "language_info": {
   "codemirror_mode": {
    "name": "ipython",
    "version": 3
   },
   "file_extension": ".py",
   "mimetype": "text/x-python",
   "name": "python",
   "nbconvert_exporter": "python",
   "pygments_lexer": "ipython3",
   "version": "3.8.8"
  }
 },
 "nbformat": 4,
 "nbformat_minor": 5
}
