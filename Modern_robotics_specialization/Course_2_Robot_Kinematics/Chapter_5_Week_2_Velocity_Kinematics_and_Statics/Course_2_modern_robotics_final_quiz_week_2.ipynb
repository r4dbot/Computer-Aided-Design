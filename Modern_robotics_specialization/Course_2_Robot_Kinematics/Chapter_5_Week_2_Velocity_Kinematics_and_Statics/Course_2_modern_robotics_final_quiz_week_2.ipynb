{
 "cells": [
  {
   "cell_type": "markdown",
   "id": "32be6524",
   "metadata": {},
   "source": []
  },
  {
   "cell_type": "code",
   "execution_count": 58,
   "id": "0420f883",
   "metadata": {},
   "outputs": [
    {
     "data": {
      "text/plain": [
       "array([[0.  ],\n",
       "       [0.  ],\n",
       "       [1.41]])"
      ]
     },
     "execution_count": 58,
     "metadata": {},
     "output_type": "execute_result"
    }
   ],
   "source": [
    "import math\n",
    "import numpy as np\n",
    "from numpy import linalg as LA\n",
    "import modern_robotics as mr\n",
    "\n",
    "pi = np.pi\n",
    "\n",
    "#q1\n",
    "f_1 = np.array([[0],[0],[0],[2],[0],[0]])\n",
    "s1_1 = np.array([[0],[0],[1],[0],[0],[0]])\n",
    "s2_1 = np.array([[0],[0],[1],[0],[-1],[0]])\n",
    "s3_1 = np.array([[0],[0],[1],[0],[-2],[0]])\n",
    "S_1 = np.c_[s1_1,s2_1,s3_1] \n",
    "tetha_1 = np.array([0,pi/4,0]) \n",
    "Js_1 = mr.JacobianSpace(S_1,tetha_1)\n",
    "tau_1 = np.dot(Js_1.T,f_1)\n",
    "tau_rounded_1 = np.around(tau_1, decimals=2)\n",
    "tau_rounded_1"
   ]
  },
  {
   "cell_type": "markdown",
   "id": "1810c1be",
   "metadata": {},
   "source": []
  },
  {
   "cell_type": "code",
   "execution_count": 50,
   "id": "fc331c5f",
   "metadata": {},
   "outputs": [
    {
     "data": {
      "text/plain": [
       "array([30., 20., 10., 20.])"
      ]
     },
     "execution_count": 50,
     "metadata": {},
     "output_type": "execute_result"
    }
   ],
   "source": [
    "#q2\n",
    "#variables\n",
    "\n",
    "tetha_2 = np.array([0,0,pi/2,-pi/2])\n",
    "f_2 = np.array([0,0,10,10,10,0])\n",
    "b1_2 = np.array([[0],[0],[1],[0],[4],[0]])\n",
    "b2_2 = np.array([[0],[0],[1],[0],[3],[0]])\n",
    "b3_2 = np.array([[0],[0],[1],[0],[2],[0]])\n",
    "b4_2 = np.array([[0],[0],[1],[0],[1],[0]])\n",
    "B_2 = np.c_[b1_2,b2_2,b3_2,b4_2]\n",
    "\n",
    "Jb_2 = mr.JacobianBody(B_2, tetha_2)\n",
    "tau_2 = np.dot(Jb_2.T,f_2)\n",
    "tau_rounded_2 = np.around(tau_2, decimals=2)\n",
    "tau_rounded_2"
   ]
  },
  {
   "cell_type": "code",
   "execution_count": 62,
   "id": "f82c649e",
   "metadata": {},
   "outputs": [
    {
     "data": {
      "text/plain": [
       "array([[ 0.,  0.,  0.],\n",
       "       [ 0.,  1.,  0.],\n",
       "       [ 1.,  0.,  0.],\n",
       "       [ 0., -2., -0.],\n",
       "       [ 0.,  0.,  0.],\n",
       "       [ 0.,  0.,  1.]])"
      ]
     },
     "execution_count": 62,
     "metadata": {},
     "output_type": "execute_result"
    }
   ],
   "source": [
    "#q3\n",
    "s1_3 = np.array([[0],[0],[1],[0],[0],[0]]) \n",
    "s2_3 = np.array([[1],[0],[0],[0],[2],[0]])\n",
    "s3_3 = np.array([[0],[0],[0],[0],[1],[0]])\n",
    "S_3 = np.c_[s1_3,s2_3,s3_3]\n",
    "tetha_3 = np.array([pi/2,pi/2,1])\n",
    "Js_3 = mr.JacobianSpace(S_3,tetha_3)\n",
    "Js_rounded_3 = np.around(Js_3, decimals=3)\n",
    "Js_rounded_3"
   ]
  },
  {
   "cell_type": "code",
   "execution_count": 63,
   "id": "5d82f453",
   "metadata": {},
   "outputs": [
    {
     "data": {
      "text/plain": [
       "array([[ 0., -1.,  0.],\n",
       "       [ 0.,  0.,  0.],\n",
       "       [ 1.,  0.,  0.],\n",
       "       [ 0.,  0.,  0.],\n",
       "       [ 0.,  4.,  0.],\n",
       "       [ 0.,  0.,  1.]])"
      ]
     },
     "execution_count": 63,
     "metadata": {},
     "output_type": "execute_result"
    }
   ],
   "source": [
    "#q4\n",
    "b1_4 = np.array([[0],[1],[0],[3],[0],[0]]) \n",
    "b2_4 = np.array([[-1],[0],[0],[0],[3],[0]])\n",
    "b3_4 = np.array([[0],[0],[0],[0],[0],[1]])\n",
    "B_4 = np.c_[b1_4,b2_4,b3_4]\n",
    "tetha_4 = np.array([pi/2,pi/2,1])\n",
    "Jb_4= mr.JacobianBody(B_4,tetha_4)\n",
    "Jb_rounded_4 = np.around(Jb_4, decimals=2)\n",
    "Jb_rounded_4\n"
   ]
  },
  {
   "cell_type": "code",
   "execution_count": 29,
   "id": "bf94b175",
   "metadata": {},
   "outputs": [],
   "source": [
    "#q5\n",
    "#7R WAM robot\n",
    "tetha_5 = np.array([pi/2,pi/2,pi/2,pi/2,pi/2,pi/2,pi/2])\n",
    "Jb_5 = np.array([[ 0     ,-1     , 0     , 0     ,-1     , 0     , 0],\n",
    "                 [ 0     , 0     , 1     , 0     , 0     , 1     , 0],\n",
    "                 [ 1     , 0     , 0     , 1     , 0     , 0     , 1],\n",
    "                 [-0.105 , 0     , 0.006 ,-0.045 , 0     , 0.006 , 0],\n",
    "                 [-0.889 , 0.006 , 0     ,-0.844 , 0.006 , 0     , 0],\n",
    "                 [ 0     ,-0.105 , 0.889 , 0     , 0     , 0     , 0]])\n",
    "                 \n",
    "Jv_5 = Jb_5[3:]\n",
    "A_5 = np.dot(Jv_5,Jv_5.T)\n",
    "eigenvalue_5, eigenvector_5 = LA.eig(A_5)\n",
    "maximum_index = np.where(eigenvalue_5 == np.amax(eigenvalue_5))[0][0]\n",
    "\n",
    "# the directions of the longest principal semi-axes of the ellipsoid\n",
    "max_direction_5 = eigenvector_5[maximum_index]\n",
    "max_direction_5_rounded = np.around(max_direction_5, decimals=3)\n",
    "\n",
    "# the length of the longest principal semi axes of the ellipsoid\n",
    "max_length_5 = math.sqrt(eigenvalue_5[maximum_index])\n",
    "max_length_5_rounded = np.around(max_length_5, decimals=3)\n"
   ]
  },
  {
   "cell_type": "code",
   "execution_count": 31,
   "id": "c861b366",
   "metadata": {},
   "outputs": [
    {
     "data": {
      "text/plain": [
       "array([ 0.087,  0.996, -0.   ])"
      ]
     },
     "execution_count": 31,
     "metadata": {},
     "output_type": "execute_result"
    }
   ],
   "source": [
    "max_direction_5_rounded"
   ]
  },
  {
   "cell_type": "code",
   "execution_count": 9,
   "id": "e318ab44",
   "metadata": {},
   "outputs": [
    {
     "name": "stdout",
     "output_type": "stream",
     "text": [
      "\n",
      "Question 5:\n",
      " [ 0.09, 1.  ,-0.  ]\n",
      "\n",
      "Question 6:\n",
      " 1.23\n"
     ]
    }
   ],
   "source": [
    "# question 5\n",
    "Jb_5 = np.array([[ 0.   ,  0.   ,  1.   , -0.105, -0.889,  0.   ],\n",
    "                 [-1.   ,  0.   ,  0.   ,  0.   ,  0.006, -0.105],\n",
    "                 [ 0.   ,  1.   ,  0.   ,  0.006,  0.   ,  0.889],\n",
    "                 [ 0.   ,  0.   ,  1.   , -0.045, -0.844,  0.   ],\n",
    "                 [-1.   ,  0.   ,  0.   ,  0.   ,  0.006,  0.   ],\n",
    "                 [ 0.   ,  1.   ,  0.   ,  0.006,  0.   ,  0.   ],\n",
    "                 [ 0.   ,  0.   ,  1.   ,  0.   ,  0.   ,  0.   ]]).T\n",
    "Jv_5 = Jb_5[3:]\n",
    "\n",
    "A_5 = np.dot(Jv_5, Jv_5.T)\n",
    "w_5, v_5 = LA.eig(A_5)\n",
    "maxId_5 = np.where(w_5 == np.amax(w_5))[0][0]\n",
    "\n",
    "vecPAxis = v_5[maxId_5]\n",
    "vecPAxis_off = np.around(vecPAxis, decimals=2)\n",
    "print(\"\\nQuestion 5:\\n\", np.array2string(vecPAxis_off, separator=','))\n",
    "\n",
    "# question 6\n",
    "lenPAxis = math.sqrt(w_5[maxId_5])\n",
    "lenPAxis_off = np.around(lenPAxis, decimals=2)\n",
    "print(\"\\nQuestion 6:\\n\", np.array2string(lenPAxis_off, separator=','))"
   ]
  },
  {
   "cell_type": "code",
   "execution_count": 27,
   "id": "d3c5c405",
   "metadata": {},
   "outputs": [
    {
     "data": {
      "text/plain": [
       "1.5142181453597041"
      ]
     },
     "execution_count": 27,
     "metadata": {},
     "output_type": "execute_result"
    }
   ],
   "source": [
    "np.amax(w_5)"
   ]
  }
 ],
 "metadata": {
  "kernelspec": {
   "display_name": "Python 3",
   "language": "python",
   "name": "python3"
  },
  "language_info": {
   "codemirror_mode": {
    "name": "ipython",
    "version": 3
   },
   "file_extension": ".py",
   "mimetype": "text/x-python",
   "name": "python",
   "nbconvert_exporter": "python",
   "pygments_lexer": "ipython3",
   "version": "3.8.8"
  }
 },
 "nbformat": 4,
 "nbformat_minor": 5
}
